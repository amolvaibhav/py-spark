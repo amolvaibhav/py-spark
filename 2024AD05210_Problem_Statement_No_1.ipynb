{
 "cells": [
  {
   "cell_type": "markdown",
   "id": "3ec5a372",
   "metadata": {},
   "source": [
    "## Q1. Import Libraries/Dataset "
   ]
  },
  {
   "cell_type": "code",
   "execution_count": 2,
   "id": "1afb037e",
   "metadata": {},
   "outputs": [],
   "source": [
    "from sklearn.linear_model import LogisticRegression\n",
    "from sklearn.tree import DecisionTreeClassifier\n",
    "from sklearn.neighbors import KNeighborsClassifier\n",
    "from sklearn.ensemble import BaggingClassifier\n",
    "from sklearn.metrics import  roc_auc_score, classification_report\n",
    "import pandas as pd\n",
    "import numpy as np\n",
    "from scipy.stats import pearsonr\n",
    "from sklearn.preprocessing import  StandardScaler\n",
    "from sklearn.model_selection import train_test_split\n",
    "from sklearn.impute import SimpleImputer\n",
    "import seaborn as sns\n",
    "import matplotlib.pyplot as plt\n",
    "from sklearn.metrics import confusion_matrix\n",
    "%matplotlib inline"
   ]
  },
  {
   "cell_type": "markdown",
   "id": "8f04ba62",
   "metadata": {},
   "source": [
    "## Q2. Data Visualization and Exploration"
   ]
  },
  {
   "cell_type": "markdown",
   "id": "3848e16c",
   "metadata": {},
   "source": [
    "#### a. Print at least 5 rows for sanity check to identify all the features present in the dataset and if the target matches with them."
   ]
  },
  {
   "cell_type": "code",
   "execution_count": 4,
   "id": "3496a46f",
   "metadata": {},
   "outputs": [
    {
     "data": {
      "text/html": [
       "<div>\n",
       "<style scoped>\n",
       "    .dataframe tbody tr th:only-of-type {\n",
       "        vertical-align: middle;\n",
       "    }\n",
       "\n",
       "    .dataframe tbody tr th {\n",
       "        vertical-align: top;\n",
       "    }\n",
       "\n",
       "    .dataframe thead th {\n",
       "        text-align: right;\n",
       "    }\n",
       "</style>\n",
       "<table border=\"1\" class=\"dataframe\">\n",
       "  <thead>\n",
       "    <tr style=\"text-align: right;\">\n",
       "      <th></th>\n",
       "      <th>carat</th>\n",
       "      <th>cut</th>\n",
       "      <th>color</th>\n",
       "      <th>clarity</th>\n",
       "      <th>depth_percent</th>\n",
       "      <th>table</th>\n",
       "      <th>price</th>\n",
       "      <th>length</th>\n",
       "      <th>width</th>\n",
       "      <th>depth</th>\n",
       "    </tr>\n",
       "  </thead>\n",
       "  <tbody>\n",
       "    <tr>\n",
       "      <th>0</th>\n",
       "      <td>0.23</td>\n",
       "      <td>Ideal</td>\n",
       "      <td>E</td>\n",
       "      <td>SI2</td>\n",
       "      <td>61.5</td>\n",
       "      <td>55.0</td>\n",
       "      <td>326</td>\n",
       "      <td>3.95</td>\n",
       "      <td>3.98</td>\n",
       "      <td>2.43</td>\n",
       "    </tr>\n",
       "    <tr>\n",
       "      <th>1</th>\n",
       "      <td>0.21</td>\n",
       "      <td>Premium</td>\n",
       "      <td>E</td>\n",
       "      <td>SI1</td>\n",
       "      <td>59.8</td>\n",
       "      <td>61.0</td>\n",
       "      <td>326</td>\n",
       "      <td>3.89</td>\n",
       "      <td>3.84</td>\n",
       "      <td>2.31</td>\n",
       "    </tr>\n",
       "    <tr>\n",
       "      <th>2</th>\n",
       "      <td>0.23</td>\n",
       "      <td>Good</td>\n",
       "      <td>E</td>\n",
       "      <td>VS1</td>\n",
       "      <td>56.9</td>\n",
       "      <td>65.0</td>\n",
       "      <td>327</td>\n",
       "      <td>4.05</td>\n",
       "      <td>4.07</td>\n",
       "      <td>2.31</td>\n",
       "    </tr>\n",
       "    <tr>\n",
       "      <th>3</th>\n",
       "      <td>0.29</td>\n",
       "      <td>Premium</td>\n",
       "      <td>I</td>\n",
       "      <td>VS2</td>\n",
       "      <td>62.4</td>\n",
       "      <td>58.0</td>\n",
       "      <td>334</td>\n",
       "      <td>4.20</td>\n",
       "      <td>4.23</td>\n",
       "      <td>2.63</td>\n",
       "    </tr>\n",
       "    <tr>\n",
       "      <th>4</th>\n",
       "      <td>0.31</td>\n",
       "      <td>Good</td>\n",
       "      <td>J</td>\n",
       "      <td>SI2</td>\n",
       "      <td>63.3</td>\n",
       "      <td>58.0</td>\n",
       "      <td>335</td>\n",
       "      <td>4.34</td>\n",
       "      <td>4.35</td>\n",
       "      <td>2.75</td>\n",
       "    </tr>\n",
       "  </tbody>\n",
       "</table>\n",
       "</div>"
      ],
      "text/plain": [
       "   carat      cut color clarity  depth_percent  table  price  length  width  \\\n",
       "0   0.23    Ideal     E     SI2           61.5   55.0    326    3.95   3.98   \n",
       "1   0.21  Premium     E     SI1           59.8   61.0    326    3.89   3.84   \n",
       "2   0.23     Good     E     VS1           56.9   65.0    327    4.05   4.07   \n",
       "3   0.29  Premium     I     VS2           62.4   58.0    334    4.20   4.23   \n",
       "4   0.31     Good     J     SI2           63.3   58.0    335    4.34   4.35   \n",
       "\n",
       "   depth  \n",
       "0   2.43  \n",
       "1   2.31  \n",
       "2   2.31  \n",
       "3   2.63  \n",
       "4   2.75  "
      ]
     },
     "execution_count": 4,
     "metadata": {},
     "output_type": "execute_result"
    }
   ],
   "source": [
    "new_col_names = ['carat','cut','color','clarity','depth_percent','table','price','length','width','depth']\n",
    "input_df = pd.read_csv(\"diamonds.csv\", names=new_col_names, skiprows=1)\n",
    "input_df.head()\n",
    "# coverting x,y,z into length, width, height as described in the metadata"
   ]
  },
  {
   "cell_type": "markdown",
   "id": "cbd803fc",
   "metadata": {},
   "source": [
    "#### b. Print the description and shape of the dataset."
   ]
  },
  {
   "cell_type": "code",
   "execution_count": null,
   "id": "6b1ecace",
   "metadata": {},
   "outputs": [
    {
     "name": "stdout",
     "output_type": "stream",
     "text": [
      "Shape of Input:\n"
     ]
    },
    {
     "data": {
      "text/plain": [
       "(53940, 10)"
      ]
     },
     "execution_count": 5,
     "metadata": {},
     "output_type": "execute_result"
    }
   ],
   "source": [
    "print(\"Shape of Input:\")\n",
    "input_df.shape\n",
    "# 10 columns with 53940 datapoints"
   ]
  },
  {
   "cell_type": "code",
   "execution_count": 7,
   "id": "4c833d27",
   "metadata": {},
   "outputs": [
    {
     "name": "stdout",
     "output_type": "stream",
     "text": [
      "Input Description:\n"
     ]
    },
    {
     "data": {
      "text/plain": [
       "<bound method NDFrame.describe of        carat        cut color clarity  depth_percent  table  price  length  \\\n",
       "0       0.23      Ideal     E     SI2           61.5   55.0    326    3.95   \n",
       "1       0.21    Premium     E     SI1           59.8   61.0    326    3.89   \n",
       "2       0.23       Good     E     VS1           56.9   65.0    327    4.05   \n",
       "3       0.29    Premium     I     VS2           62.4   58.0    334    4.20   \n",
       "4       0.31       Good     J     SI2           63.3   58.0    335    4.34   \n",
       "...      ...        ...   ...     ...            ...    ...    ...     ...   \n",
       "53935   0.72      Ideal     D     SI1           60.8   57.0   2757    5.75   \n",
       "53936   0.72       Good     D     SI1           63.1   55.0   2757    5.69   \n",
       "53937   0.70  Very Good     D     SI1           62.8   60.0   2757    5.66   \n",
       "53938   0.86    Premium     H     SI2           61.0   58.0   2757    6.15   \n",
       "53939   0.75      Ideal     D     SI2           62.2   55.0   2757    5.83   \n",
       "\n",
       "       width  depth  \n",
       "0       3.98   2.43  \n",
       "1       3.84   2.31  \n",
       "2       4.07   2.31  \n",
       "3       4.23   2.63  \n",
       "4       4.35   2.75  \n",
       "...      ...    ...  \n",
       "53935   5.76   3.50  \n",
       "53936   5.75   3.61  \n",
       "53937   5.68   3.56  \n",
       "53938   6.12   3.74  \n",
       "53939   5.87   3.64  \n",
       "\n",
       "[53940 rows x 10 columns]>"
      ]
     },
     "execution_count": 7,
     "metadata": {},
     "output_type": "execute_result"
    }
   ],
   "source": [
    "print(\"Input Description:\") \n",
    "input_df.describe"
   ]
  },
  {
   "cell_type": "markdown",
   "id": "cc6ff353",
   "metadata": {},
   "source": [
    "#### d. Do the correlational analysis on the dataset. Provide a visualization for the same"
   ]
  },
  {
   "cell_type": "code",
   "execution_count": 9,
   "id": "88dedc6d",
   "metadata": {},
   "outputs": [],
   "source": [
    "\"\"\"\n",
    "Encoding logic for cut_category, color and clarity as desbribed in Metadata\n",
    "\"\"\"\n",
    "def categorize_cut(row):\n",
    "    if row['cut'] == 'Fair':\n",
    "        return 1.0\n",
    "    elif row['cut'] == 'Good':\n",
    "        return 2.0\n",
    "    elif row['cut'] == 'Very Good':\n",
    "        return 3.0\n",
    "    elif row['cut'] == 'Premium':\n",
    "        return 4.0\n",
    "    elif row['cut'] == 'Ideal':\n",
    "        return 5.0\n",
    "    else:\n",
    "        return 0\n",
    "def categorize_color(row):\n",
    "    if row['color'] == 'D':\n",
    "        return 1.0\n",
    "    elif row['color'] == 'E':\n",
    "        return 2.0\n",
    "    elif row['color'] == 'F':\n",
    "        return 3.0\n",
    "    elif row['color'] == 'G':\n",
    "        return 4.0\n",
    "    elif row['color'] == 'H':\n",
    "        return 5.0\n",
    "    elif row['color'] == 'I':\n",
    "        return 6.0\n",
    "    elif row['color'] == 'J':\n",
    "        return 7.0\n",
    "    else:\n",
    "        return 0\n",
    "def categorize_clarity(row):\n",
    "    if row['clarity'] == 'IF':\n",
    "        return 1.0\n",
    "    elif row['clarity'] == 'VVS1':\n",
    "        return 2.0\n",
    "    elif row['clarity'] == 'VVS2':\n",
    "        return 3.0\n",
    "    elif row['clarity'] == 'VS1':\n",
    "        return 4.0\n",
    "    elif row['clarity'] == 'VS2':\n",
    "        return 5.0\n",
    "    elif row['clarity'] == 'SI1':\n",
    "        return 6.0\n",
    "    elif row['clarity'] == 'SI2':\n",
    "        return 7.0\n",
    "    elif row['clarity'] == 'I1':\n",
    "        return 8.0\n",
    "    else:\n",
    "        return 0"
   ]
  },
  {
   "cell_type": "code",
   "execution_count": 10,
   "id": "853a71f7",
   "metadata": {},
   "outputs": [
    {
     "data": {
      "image/png": "[encoded data removed]",
      "text/plain": [
       "<Figure size 1800x1800 with 2 Axes>"
      ]
     },
     "metadata": {},
     "output_type": "display_data"
    }
   ],
   "source": [
    "input_copy = input_df.copy()\n",
    "input_copy['cut_category'] = input_copy.apply(categorize_cut, axis=1) # creating numerical target from alphanumeric target\n",
    "input_copy['color_category'] = input_copy.apply(categorize_color, axis=1) # creating numerical target from alphanumeric target\n",
    "input_copy['clarity_category'] = input_copy.apply(categorize_clarity, axis=1) # creating numerical target from alphanumeric target\n",
    "cpy_dropped=input_copy.drop(['cut','color','clarity'],axis=1)\n",
    "\n",
    "plt.figure(figsize=(18,18))\n",
    "cor1 = cpy_dropped.corr()\n",
    "sns.heatmap(cor1, annot=True, cmap=\"viridis\",annot_kws={\"size\":8})\n",
    "plt.show()"
   ]
  },
  {
   "cell_type": "markdown",
   "id": "73a57081",
   "metadata": {},
   "source": [
    "#### c. Provide appropriate visualization to get an insight about the dataset"
   ]
  },
  {
   "cell_type": "code",
   "execution_count": 11,
   "id": "ab09e16c",
   "metadata": {},
   "outputs": [],
   "source": [
    "def percent_outliers_iqr(df, feature):\n",
    "    Q1 = df[feature].quantile(0.25)\n",
    "    Q3 = df[feature].quantile(0.75)\n",
    "    IQR = Q3 - Q1\n",
    "    lower = Q1 - 1.5 * IQR\n",
    "    upper = Q3 + 1.5 * IQR\n",
    "    \n",
    "    outliers = df[(df[feature] < lower) | (df[feature] > upper)]\n",
    "    percent = len(outliers) / len(df) * 100\n",
    "    \n",
    "    # print(f\"Outliers in '{feature}': {len(outliers)} out of {len(df)} ({percent:.2f}%)\")\n",
    "    return percent"
   ]
  },
  {
   "cell_type": "code",
   "execution_count": 12,
   "id": "eb6dafd2",
   "metadata": {},
   "outputs": [],
   "source": [
    "# Create a dataframe for plotting\n",
    "outlier_percent = {}\n",
    "for col in input_copy.select_dtypes(include=np.number).columns :\n",
    "    outlier_percent[col]=percent_outliers_iqr(input_copy, col)\n",
    "outlier_df = pd.DataFrame(outlier_percent.items(), columns=['Feature', 'Outlier_Percentage'])"
   ]
  },
  {
   "cell_type": "code",
   "execution_count": 13,
   "id": "4af761da",
   "metadata": {},
   "outputs": [
    {
     "data": {
      "image/png": "[encoded data removed]",
      "text/plain": [
       "<Figure size 2000x600 with 1 Axes>"
      ]
     },
     "metadata": {},
     "output_type": "display_data"
    }
   ],
   "source": [
    "plt.figure(figsize=(20, 6))\n",
    "sns.barplot(x='Feature', y='Outlier_Percentage', data=outlier_df)\n",
    "plt.title('Percentage of Outliers per Feature')\n",
    "plt.xlabel('Feature')\n",
    "plt.ylabel('Percentage of Outliers (%)')\n",
    "plt.ylim(0, 100) # Ensure y-axis goes up to 100%\n",
    "plt.grid(axis='y', linestyle='--', alpha=0.7)\n",
    "plt.show()"
   ]
  },
  {
   "cell_type": "markdown",
   "id": "a16ade33",
   "metadata": {},
   "source": [
    "## Outlier Analysis on the basis of above plot\n",
    "Hence, in the input data, there are no outliers exceeding 5-6%. Therefore, **'mean' SimpleImputer** can be used to replace any missing value with the respective mean values. Also, will use the **Standard Scalar** to scale the data which uses z-score. \n",
    "Also We notice high outlier percentage in **depth_percent** and **price**. I have written python code to pick the best features out of 9 features."
   ]
  },
  {
   "cell_type": "markdown",
   "id": "7a3b48ba",
   "metadata": {},
   "source": [
    "## Q3. Data Pre-processing and cleaning"
   ]
  },
  {
   "cell_type": "markdown",
   "id": "2c1f7b3d",
   "metadata": {},
   "source": [
    "#### a. Perform appropriate pre-processing of the data"
   ]
  },
  {
   "cell_type": "code",
   "execution_count": null,
   "id": "1b9ba7cd",
   "metadata": {},
   "outputs": [
    {
     "name": "stdout",
     "output_type": "stream",
     "text": [
      "Feature Shape: (53940, 9) and Target Shape: (53940,)\n"
     ]
    }
   ],
   "source": [
    "# Define Feature and Targets\n",
    "y = cpy_dropped['cut_category'] # Target Column\n",
    "X = cpy_dropped.drop('cut_category',axis=1)\n",
    "print(f\"Feature Shape: {X.shape} and Target Shape: {y.shape}\")\n",
    "#Define Features and Targets\n"
   ]
  },
  {
   "cell_type": "code",
   "execution_count": 15,
   "id": "22845d09",
   "metadata": {},
   "outputs": [],
   "source": [
    "# Impute missing values in features\n",
    "imputer = SimpleImputer(strategy='mean')\n",
    "X_imputed = imputer.fit_transform(X)"
   ]
  },
  {
   "cell_type": "code",
   "execution_count": 16,
   "id": "89bac3de",
   "metadata": {},
   "outputs": [
    {
     "name": "stdout",
     "output_type": "stream",
     "text": [
      "[[-1.19816781 -0.17409151 -1.09967199 ... -1.57112919 -0.93716275\n",
      "   1.24521508]\n",
      " [-1.24036129 -1.36073849  1.58552871 ... -1.74117497 -0.93716275\n",
      "   0.63809506]\n",
      " [-1.19816781 -3.38501862  3.37566251 ... -1.74117497 -0.93716275\n",
      "  -0.57614496]\n",
      " ...\n",
      " [-0.20662095  0.73334442  1.13799526 ...  0.03013526 -1.52502147\n",
      "   0.63809506]\n",
      " [ 0.13092691 -0.52310533  0.24292836 ...  0.28520393  0.8264134\n",
      "   1.24521508]\n",
      " [-0.10113725  0.31452784 -1.09967199 ...  0.14349912 -1.52502147\n",
      "   1.24521508]]\n"
     ]
    }
   ],
   "source": [
    "# Feature Scaling to handle outliers\n",
    "scaler = StandardScaler()\n",
    "X_scaled = scaler.fit_transform(X_imputed)\n",
    "print(X_scaled)"
   ]
  },
  {
   "cell_type": "code",
   "execution_count": 17,
   "id": "af2a02ae",
   "metadata": {},
   "outputs": [
    {
     "name": "stdout",
     "output_type": "stream",
     "text": [
      "Top 6 features effecting the target(cut_category) are :\n",
      "      [('table', -0.43340460648144763), ('depth_percent', -0.21805500914169051), ('clarity_category', -0.18917474400795686), ('depth', -0.14932253650521551), ('carat', -0.13496702034499983), ('length', -0.12556523668377842)]\n"
     ]
    }
   ],
   "source": [
    "# Check correlations for each feature with the target\n",
    "cor_output=[]\n",
    "scaled_df = pd.DataFrame(X_scaled, columns=X.columns)\n",
    "# Traverse through all columns of the dataframe to calculate Pearson's r coefficient\n",
    "for col in scaled_df.columns:\n",
    "    feat = scaled_df[col]\n",
    "    corr, _ = pearsonr(feat, y)\n",
    "    cor_output.append((col, corr))\n",
    "\n",
    "# Sort the above correlations list of tuples by increasing order of r coefficient\n",
    "sorted_output_r = sorted(cor_output, key=lambda x: x[1])\n",
    "selected_feature_list = sorted_output_r[:6]\n",
    "\n",
    "print(f\"\"\"Top 6 features effecting the target(cut_category) are :\n",
    "      {selected_feature_list}\"\"\")\n"
   ]
  },
  {
   "cell_type": "markdown",
   "id": "6a17538a",
   "metadata": {},
   "source": [
    "# Correlation Analysis\n",
    "\n",
    "As per correlation analysis of different features w.r.t to each other in the Heatmap, we could see few features with r coefficient tending to 0. Also as per the X-Y plots, we see little outliers, therefore, i chose\n",
    "\n",
    "1. SimpleImputer with mean strategy to replace all the null values (missing values) into mean value of the respective feature.\n",
    "2. StandardScalar to minimize the effect of outliers by transforming them to not have mean=0 but a standard deviation =1. The amount of outliers noticed is less, therefore, shouldn't effect the prediction.\n",
    "3. Pearson's correlation coeffiecient to compare and reduce the number of features. In the above step, from the scaled dataframe, we are calculating Pearson's r coefficient of all features w.r.t the Target(cut_category). Taking best 6\n",
    "4. The top 6 features selected does not include **price**.Which should be beneficial. Although **depth_percentage** had higher outlier%, its highly correlated with the target **cut_category**. Therefore, we will use this feature for training and validations"
   ]
  },
  {
   "cell_type": "markdown",
   "id": "5879fb50",
   "metadata": {},
   "source": [
    "# **Enforce best 6 features**"
   ]
  },
  {
   "cell_type": "code",
   "execution_count": 18,
   "id": "cb064f40",
   "metadata": {},
   "outputs": [
    {
     "name": "stdout",
     "output_type": "stream",
     "text": [
      "Index(['carat', 'depth_percent', 'table', 'price', 'length', 'width', 'depth',\n",
      "       'color_category', 'clarity_category'],\n",
      "      dtype='object')\n",
      "Index(['carat', 'depth_percent', 'table', 'length', 'depth',\n",
      "       'clarity_category'],\n",
      "      dtype='object')\n"
     ]
    }
   ],
   "source": [
    "selected_feature_list_str = [i[0] for i in selected_feature_list]\n",
    "print(scaled_df.columns)\n",
    "for cols in scaled_df.columns:\n",
    "    if cols not in selected_feature_list_str:\n",
    "        scaled_df = scaled_df.drop(cols,axis=1)\n",
    "print(scaled_df.columns)"
   ]
  },
  {
   "cell_type": "markdown",
   "id": "c0a67f84",
   "metadata": {},
   "source": [
    "## Q4. Model Building"
   ]
  },
  {
   "cell_type": "markdown",
   "id": "a77c0127",
   "metadata": {},
   "source": [
    "#### a.Split the dataset into training and test sets."
   ]
  },
  {
   "cell_type": "code",
   "execution_count": 19,
   "id": "f204dfbe",
   "metadata": {},
   "outputs": [
    {
     "name": "stdout",
     "output_type": "stream",
     "text": [
      "Shape of 1st data split : Train(43152, 6)  Test (10788, 6)\n",
      "Shape of 2nd data split : Train(37758, 6) Test (16182, 6)\n"
     ]
    }
   ],
   "source": [
    "X_train_main, X_test_main, y_train_main, y_test_main = train_test_split(scaled_df, y, test_size=0.2, random_state=42) # Split Train-Test data to 80%-20%\n",
    "X_train_secondary, X_test_secondary, y_train_secondary, y_test_secondary = train_test_split(scaled_df, y, test_size=0.3, random_state=42) # Split Train-Test data to 70%-30%\n",
    "print(f\"Shape of 1st data split : Train{X_train_main.shape}  Test {X_test_main.shape}\")\n",
    "print(f\"Shape of 2nd data split : Train{X_train_secondary.shape} Test {X_test_secondary.shape}\")\n",
    "y_test_main_df = pd.DataFrame(y_test_main)\n",
    "y_test_secondary_df = pd.DataFrame(y_test_secondary)"
   ]
  },
  {
   "cell_type": "markdown",
   "id": "06344e91",
   "metadata": {},
   "source": [
    "* Implement predictive models/classifiers using the following classification approaches\n",
    "    + Logistic Regression\n",
    "    + Decision Tree\n",
    "    + K-nearest Neighbour\n",
    "    + Ensemble Methods(Choosing BaggingClassifier)\n",
    "* Tune hyperparameters\n"
   ]
  },
  {
   "cell_type": "code",
   "execution_count": 20,
   "id": "8047f420",
   "metadata": {},
   "outputs": [
    {
     "name": "stderr",
     "output_type": "stream",
     "text": [
      "c:\\Users\\vaibh\\AppData\\Local\\Programs\\Python\\Python311\\Lib\\site-packages\\sklearn\\linear_model\\_logistic.py:1288: FutureWarning: Using the 'liblinear' solver for multiclass classification is deprecated. An error will be raised in 1.8. Either use another solver which supports the multinomial loss or wrap the estimator in a OneVsRestClassifier to keep applying a one-versus-rest scheme.\n",
      "  warnings.warn(\n",
      "c:\\Users\\vaibh\\AppData\\Local\\Programs\\Python\\Python311\\Lib\\site-packages\\sklearn\\linear_model\\_logistic.py:1288: FutureWarning: Using the 'liblinear' solver for multiclass classification is deprecated. An error will be raised in 1.8. Either use another solver which supports the multinomial loss or wrap the estimator in a OneVsRestClassifier to keep applying a one-versus-rest scheme.\n",
      "  warnings.warn(\n"
     ]
    }
   ],
   "source": [
    "# Logistic Regression\n",
    "logistic_model_main = LogisticRegression(solver='liblinear') # default classfier\n",
    "logistic_model_secondary = LogisticRegression(solver='liblinear') # default classfier\n",
    "lmm_clf = logistic_model_main.fit(X_train_main.iloc[:, :].values,y_train_main)\n",
    "lms_clf = logistic_model_secondary.fit(X_train_secondary.iloc[:, :].values,y_train_secondary)"
   ]
  },
  {
   "cell_type": "code",
   "execution_count": 23,
   "id": "3c358b43",
   "metadata": {},
   "outputs": [],
   "source": [
    "# Logistic Regression Tuned with a more complex level of solver\n",
    "logistic_model_main_tuned = LogisticRegression(solver='newton-cholesky')\n",
    "logistic_model_secondary_tuned = LogisticRegression(solver='newton-cholesky') \n",
    "lmmt_clf = logistic_model_main_tuned.fit(X_train_main.iloc[:, :].values,y_train_main)\n",
    "lmst_clf = logistic_model_secondary_tuned.fit(X_train_secondary.iloc[:, :].values,y_train_secondary)"
   ]
  },
  {
   "cell_type": "code",
   "execution_count": 24,
   "id": "e356bfbe",
   "metadata": {},
   "outputs": [],
   "source": [
    "# DescisionTree\n",
    "tree_model_main = DecisionTreeClassifier()\n",
    "tree_model_secondary = DecisionTreeClassifier()\n",
    "tmm_clf = tree_model_main.fit(X_train_main,y_train_main)\n",
    "tms_clf = tree_model_secondary.fit(X_train_secondary,y_train_secondary)"
   ]
  },
  {
   "cell_type": "code",
   "execution_count": 25,
   "id": "1459cb31",
   "metadata": {},
   "outputs": [],
   "source": [
    "# DescisionTree Tuned with maximizing the depth the tree can go. Setting random_state to a specific integer value seeds the random number generator used in these internal processes.\n",
    "tree_model_main_tuned = DecisionTreeClassifier(criterion = 'entropy',max_depth=100,random_state=55)\n",
    "tree_model_secondary_tuned = DecisionTreeClassifier(criterion = 'entropy',max_depth=100,random_state=55)\n",
    "tmmt_clf = tree_model_main_tuned.fit(X_train_main,y_train_main)\n",
    "tmst_clf = tree_model_secondary_tuned.fit(X_train_secondary,y_train_secondary)"
   ]
  },
  {
   "cell_type": "code",
   "execution_count": 26,
   "id": "dae29f29",
   "metadata": {},
   "outputs": [],
   "source": [
    "# K Neighbour Classification\n",
    "neighbour_model_main = KNeighborsClassifier()\n",
    "neighbour_model_secondary = KNeighborsClassifier()\n",
    "nmm_clf = neighbour_model_main.fit(X_train_main,y_train_main)\n",
    "nms_clf = neighbour_model_secondary.fit(X_train_secondary,y_train_secondary)\n"
   ]
  },
  {
   "cell_type": "code",
   "execution_count": 27,
   "id": "bb84b9e0",
   "metadata": {},
   "outputs": [],
   "source": [
    "# K Neighbour Classification Tuned with sqrt(len(test_data))=k, distance-based weights.\n",
    "neighbour_model_main_tuned = KNeighborsClassifier(n_neighbors=104,algorithm='ball_tree',weights='distance',p=2)\n",
    "neighbour_model_secondary_tuned = KNeighborsClassifier(n_neighbors=104,algorithm='ball_tree',weights='distance',p=2)\n",
    "nmmt_clf = neighbour_model_main_tuned.fit(X_train_main,y_train_main)\n",
    "nmst_clf = neighbour_model_secondary_tuned.fit(X_train_secondary,y_train_secondary)"
   ]
  },
  {
   "cell_type": "code",
   "execution_count": 28,
   "id": "8e88fc1b",
   "metadata": {},
   "outputs": [],
   "source": [
    "# Bagging Classifier (Ensemble Library)\n",
    "base_model = DecisionTreeClassifier()\n",
    "bagging = BaggingClassifier(estimator=base_model)\n",
    "rfm_clf = bagging.fit(X_train_main,y_train_main)\n",
    "rfs_clf = bagging.fit(X_train_secondary,y_train_secondary)\n"
   ]
  },
  {
   "cell_type": "code",
   "execution_count": 29,
   "id": "a3e4cf65",
   "metadata": {},
   "outputs": [],
   "source": [
    "# Bagging Classifier (Ensemble Library) Tuned with KNN\n",
    "base_model_2 = KNeighborsClassifier()\n",
    "bagging_tuned = BaggingClassifier(estimator=base_model_2,n_estimators=50,random_state=42)\n",
    "# gbc_model_main_tuned = RandomForestClassifier(n_estimators=200,max_depth=1)\n",
    "# gbc_model_secondary_tuned = RandomForestClassifier(n_estimators=200,max_depth=1)\n",
    "rfmt_clf = bagging_tuned.fit(X_train_main,y_train_main)\n",
    "rfst_clf = bagging_tuned.fit(X_train_secondary,y_train_secondary)\n"
   ]
  },
  {
   "cell_type": "markdown",
   "id": "6e8f49d4",
   "metadata": {},
   "source": [
    "## Q5. Performance Evaluation"
   ]
  },
  {
   "cell_type": "markdown",
   "id": "973587ce",
   "metadata": {},
   "source": [
    "* Compare the performances of each model/classifier considering the given dataset using different evaluation measures such as Precision, Recall, F1-Score, AUC-ROC. \n",
    "* Identify the model, which you think is the best amongst all the models that have been trained."
   ]
  },
  {
   "cell_type": "code",
   "execution_count": 30,
   "id": "b8783699",
   "metadata": {},
   "outputs": [
    {
     "name": "stderr",
     "output_type": "stream",
     "text": [
      "c:\\Users\\vaibh\\AppData\\Local\\Programs\\Python\\Python311\\Lib\\site-packages\\sklearn\\utils\\validation.py:2742: UserWarning: X has feature names, but LogisticRegression was fitted without feature names\n",
      "  warnings.warn(\n",
      "c:\\Users\\vaibh\\AppData\\Local\\Programs\\Python\\Python311\\Lib\\site-packages\\sklearn\\utils\\validation.py:2742: UserWarning: X has feature names, but LogisticRegression was fitted without feature names\n",
      "  warnings.warn(\n",
      "c:\\Users\\vaibh\\AppData\\Local\\Programs\\Python\\Python311\\Lib\\site-packages\\sklearn\\utils\\validation.py:2742: UserWarning: X has feature names, but LogisticRegression was fitted without feature names\n",
      "  warnings.warn(\n",
      "c:\\Users\\vaibh\\AppData\\Local\\Programs\\Python\\Python311\\Lib\\site-packages\\sklearn\\utils\\validation.py:2742: UserWarning: X has feature names, but LogisticRegression was fitted without feature names\n",
      "  warnings.warn(\n"
     ]
    }
   ],
   "source": [
    "# Run Predictions on above models\n",
    "\n",
    "logistic_model_main_pred = logistic_model_main.predict(X_test_main)\n",
    "logistic_model_secondary_pred = logistic_model_secondary.predict(X_test_secondary)\n",
    "logistic_model_main_tuned_pred = logistic_model_main_tuned.predict(X_test_main)\n",
    "logistic_model_secondary_tuned_pred = logistic_model_secondary_tuned.predict(X_test_secondary)\n",
    "tree_model_main_pred = tree_model_main.predict(X_test_main)\n",
    "tree_model_secondary_pred = tree_model_secondary.predict(X_test_secondary)\n",
    "tree_model_main_tuned_pred = tree_model_main_tuned.predict(X_test_main)\n",
    "tree_model_secondary_tuned_pred = tree_model_secondary_tuned.predict(X_test_secondary)\n",
    "neighbour_model_main_pred = neighbour_model_main.predict(X_test_main)\n",
    "neighbour_model_secondary_pred = neighbour_model_secondary.predict(X_test_secondary)\n",
    "neighbour_model_main_tuned_pred = neighbour_model_main_tuned.predict(X_test_main)\n",
    "neighbour_model_secondary_tuned_pred = neighbour_model_secondary_tuned.predict(X_test_secondary)\n",
    "gbc_model_main_pred = bagging.predict(X_test_main)\n",
    "gbc_model_secondary_pred = bagging.predict(X_test_secondary)\n",
    "gbc_model_main_tuned_pred = bagging.predict(X_test_main)\n",
    "gbc_model_secondary_tuned_pred = bagging.predict(X_test_secondary)\n"
   ]
  },
  {
   "cell_type": "markdown",
   "id": "2b6afa8d",
   "metadata": {},
   "source": [
    "## Performance Analysis Tabulation and Comparison\n",
    "Below are the steps to get accuracy, precision, recall, f1-score from classification report."
   ]
  },
  {
   "cell_type": "code",
   "execution_count": 31,
   "id": "f007fd26",
   "metadata": {},
   "outputs": [],
   "source": [
    "models = ['LogisticRegression','LogisticRegression-Tuned', 'DecisionTreeClassifier','DecisionTreeClassifier-Tuned', 'KNeighborsClassifier','KNeighborsClassifier-Tuned', 'BaggingClassifier', 'BaggingClassifier-Tuned']\n",
    "accuracy_accumulator = []\n",
    "precision_accumulator = []\n",
    "recall_accumulator = []\n",
    "f1s_accumulator = []"
   ]
  },
  {
   "cell_type": "code",
   "execution_count": 32,
   "id": "bce777f3",
   "metadata": {},
   "outputs": [
    {
     "name": "stdout",
     "output_type": "stream",
     "text": [
      "[0.5790426680761084, 0.6136241361861978]\n"
     ]
    }
   ],
   "source": [
    "#Gather stats on Logistic Regression on default and tuned models\n",
    "cr_main = classification_report(y_test_main, logistic_model_main_pred,output_dict=True)\n",
    "cr_tuned = classification_report(y_test_main, logistic_model_main_tuned_pred,output_dict=True)\n",
    "acc, precision, recall, f1s = cr_main['accuracy'], cr_main['weighted avg']['precision'], cr_main['weighted avg']['recall'], cr_main['weighted avg']['f1-score']\n",
    "accuracy_accumulator.append(acc)\n",
    "precision_accumulator.append(precision)\n",
    "recall_accumulator.append(recall)\n",
    "f1s_accumulator.append(f1s)\n",
    "\n",
    "acc, precision, recall, f1s = cr_tuned['accuracy'], cr_tuned['weighted avg']['precision'], cr_tuned['weighted avg']['recall'], cr_tuned['weighted avg']['f1-score']\n",
    "accuracy_accumulator.append(acc)\n",
    "precision_accumulator.append(precision)\n",
    "recall_accumulator.append(recall)\n",
    "f1s_accumulator.append(f1s)\n",
    "\n",
    "print(f1s_accumulator)"
   ]
  },
  {
   "cell_type": "code",
   "execution_count": 33,
   "id": "199e9309",
   "metadata": {},
   "outputs": [],
   "source": [
    "# Gather stats on Decision Tree Model Report on 80-20 Train-Test Split data for default and Hyperparameter tuned model\n",
    "cr_tm_main = classification_report(y_test_main, tree_model_main_pred, output_dict=True)\n",
    "cr_tm_main_tuned = classification_report(y_test_main, tree_model_main_tuned_pred, output_dict=True)\n",
    "acc, precision, recall, f1s = cr_tm_main['accuracy'], cr_tm_main['weighted avg']['precision'], cr_tm_main['weighted avg']['recall'], cr_tm_main['weighted avg']['f1-score']\n",
    "accuracy_accumulator.append(acc)\n",
    "precision_accumulator.append(precision)\n",
    "recall_accumulator.append(recall)\n",
    "f1s_accumulator.append(f1s)\n",
    "\n",
    "acc, precision, recall, f1s = cr_tm_main_tuned['accuracy'], cr_tm_main_tuned['weighted avg']['precision'], cr_tm_main_tuned['weighted avg']['recall'], cr_tm_main_tuned['weighted avg']['f1-score']\n",
    "accuracy_accumulator.append(acc)\n",
    "precision_accumulator.append(precision)\n",
    "recall_accumulator.append(recall)\n",
    "f1s_accumulator.append(f1s)"
   ]
  },
  {
   "cell_type": "code",
   "execution_count": 34,
   "id": "4590f290",
   "metadata": {},
   "outputs": [],
   "source": [
    "# Gathering stats for k-neighbour Model Report on 80-20 Train-Test Split data for default and Hyperparameter tuned model\n",
    "cr_knn_main = classification_report(y_test_main, neighbour_model_main_pred, output_dict=True)\n",
    "cr_knn_main_tuned = classification_report(y_test_main, neighbour_model_main_tuned_pred, output_dict=True)\n",
    "acc, precision, recall, f1s = cr_knn_main['accuracy'], cr_knn_main['weighted avg']['precision'], cr_knn_main['weighted avg']['recall'], cr_knn_main['weighted avg']['f1-score']\n",
    "accuracy_accumulator.append(acc)\n",
    "precision_accumulator.append(precision)\n",
    "recall_accumulator.append(recall)\n",
    "f1s_accumulator.append(f1s)\n",
    "\n",
    "acc, precision, recall, f1s = cr_knn_main_tuned['accuracy'], cr_knn_main_tuned['weighted avg']['precision'], cr_knn_main_tuned['weighted avg']['recall'], cr_knn_main_tuned['weighted avg']['f1-score']\n",
    "accuracy_accumulator.append(acc)\n",
    "precision_accumulator.append(precision)\n",
    "recall_accumulator.append(recall)\n",
    "f1s_accumulator.append(f1s)"
   ]
  },
  {
   "cell_type": "code",
   "execution_count": 35,
   "id": "e5525db0",
   "metadata": {},
   "outputs": [],
   "source": [
    "# gathering stats for Random Forest Model Report on 80-20 Train-Test Split data for default and Hyperparameter tuned model\n",
    "cr_rfm_main = classification_report(y_test_main, gbc_model_main_pred, output_dict=True)\n",
    "cr_rfm_main_tuned = classification_report(y_test_main, gbc_model_main_tuned_pred, output_dict=True)\n",
    "\n",
    "acc, precision, recall, f1s = cr_rfm_main['accuracy'], cr_rfm_main['weighted avg']['precision'], cr_rfm_main['weighted avg']['recall'], cr_rfm_main['weighted avg']['f1-score']\n",
    "accuracy_accumulator.append(acc)\n",
    "precision_accumulator.append(precision)\n",
    "recall_accumulator.append(recall)\n",
    "f1s_accumulator.append(f1s)\n",
    "\n",
    "acc, precision, recall, f1s = cr_rfm_main_tuned['accuracy'], cr_rfm_main_tuned['weighted avg']['precision'], cr_rfm_main_tuned['weighted avg']['recall'], cr_rfm_main_tuned['weighted avg']['f1-score']\n",
    "accuracy_accumulator.append(acc)\n",
    "precision_accumulator.append(precision)\n",
    "recall_accumulator.append(recall)\n",
    "f1s_accumulator.append(f1s)\n"
   ]
  },
  {
   "cell_type": "markdown",
   "id": "fa16902b",
   "metadata": {},
   "source": [
    "## ROC-AUC Scores"
   ]
  },
  {
   "cell_type": "code",
   "execution_count": 36,
   "id": "aca9544d",
   "metadata": {},
   "outputs": [
    {
     "name": "stderr",
     "output_type": "stream",
     "text": [
      "c:\\Users\\vaibh\\AppData\\Local\\Programs\\Python\\Python311\\Lib\\site-packages\\sklearn\\utils\\validation.py:2749: UserWarning: X does not have valid feature names, but DecisionTreeClassifier was fitted with feature names\n",
      "  warnings.warn(\n",
      "c:\\Users\\vaibh\\AppData\\Local\\Programs\\Python\\Python311\\Lib\\site-packages\\sklearn\\utils\\validation.py:2749: UserWarning: X does not have valid feature names, but DecisionTreeClassifier was fitted with feature names\n",
      "  warnings.warn(\n",
      "c:\\Users\\vaibh\\AppData\\Local\\Programs\\Python\\Python311\\Lib\\site-packages\\sklearn\\utils\\validation.py:2749: UserWarning: X does not have valid feature names, but KNeighborsClassifier was fitted with feature names\n",
      "  warnings.warn(\n",
      "c:\\Users\\vaibh\\AppData\\Local\\Programs\\Python\\Python311\\Lib\\site-packages\\sklearn\\utils\\validation.py:2749: UserWarning: X does not have valid feature names, but KNeighborsClassifier was fitted with feature names\n",
      "  warnings.warn(\n",
      "c:\\Users\\vaibh\\AppData\\Local\\Programs\\Python\\Python311\\Lib\\site-packages\\sklearn\\utils\\validation.py:2749: UserWarning: X does not have valid feature names, but BaggingClassifier was fitted with feature names\n",
      "  warnings.warn(\n",
      "c:\\Users\\vaibh\\AppData\\Local\\Programs\\Python\\Python311\\Lib\\site-packages\\sklearn\\utils\\validation.py:2749: UserWarning: X does not have valid feature names, but BaggingClassifier was fitted with feature names\n",
      "  warnings.warn(\n"
     ]
    }
   ],
   "source": [
    "# gather roc_auc scores for all models\n",
    "roc_auc_accumulator = []\n",
    "roc_auc_log_reg_main = roc_auc_score(y_test_main, lmm_clf.predict_proba(X_test_main.iloc[:, :].values), multi_class='ovo')\n",
    "roc_auc_accumulator.append(roc_auc_log_reg_main)\n",
    "roc_auc_log_reg_main_tuned = roc_auc_score(y_test_main, lmmt_clf.predict_proba(X_test_main.iloc[:, :].values), multi_class='ovo')\n",
    "roc_auc_accumulator.append(roc_auc_log_reg_main_tuned)\n",
    "\n",
    "roc_auc_tree_model_main = roc_auc_score(y_test_main, tmm_clf.predict_proba(X_test_main.iloc[:, :].values), multi_class='ovo')\n",
    "roc_auc_accumulator.append(roc_auc_tree_model_main)\n",
    "roc_auc_tree_model_main_tuned = roc_auc_score(y_test_main, tmmt_clf.predict_proba(X_test_main.iloc[:, :].values), multi_class='ovo')\n",
    "roc_auc_accumulator.append(roc_auc_tree_model_main_tuned)\n",
    "\n",
    "roc_auc_neigh_main = roc_auc_score(y_test_main, nmm_clf.predict_proba(X_test_main.iloc[:, :].values), multi_class='ovo')\n",
    "roc_auc_accumulator.append(roc_auc_neigh_main)\n",
    "roc_auc_neigh_main_tuned = roc_auc_score(y_test_main, nmmt_clf.predict_proba(X_test_main.iloc[:, :].values), multi_class='ovo')\n",
    "roc_auc_accumulator.append(roc_auc_neigh_main_tuned)\n",
    "\n",
    "roc_auc_rf_model_main = roc_auc_score(y_test_main, rfm_clf.predict_proba(X_test_main.iloc[:, :].values), multi_class='ovo')\n",
    "roc_auc_accumulator.append(roc_auc_rf_model_main)\n",
    "roc_auc_rf_model_main_tuned = roc_auc_score(y_test_main, rfmt_clf.predict_proba(X_test_main.iloc[:, :].values), multi_class='ovo')\n",
    "roc_auc_accumulator.append(roc_auc_rf_model_main_tuned)"
   ]
  },
  {
   "cell_type": "code",
   "execution_count": 37,
   "id": "80f49f86",
   "metadata": {},
   "outputs": [
    {
     "data": {
      "text/html": [
       "<div>\n",
       "<style scoped>\n",
       "    .dataframe tbody tr th:only-of-type {\n",
       "        vertical-align: middle;\n",
       "    }\n",
       "\n",
       "    .dataframe tbody tr th {\n",
       "        vertical-align: top;\n",
       "    }\n",
       "\n",
       "    .dataframe thead th {\n",
       "        text-align: right;\n",
       "    }\n",
       "</style>\n",
       "<table border=\"1\" class=\"dataframe\">\n",
       "  <thead>\n",
       "    <tr style=\"text-align: right;\">\n",
       "      <th></th>\n",
       "      <th>Accuracy</th>\n",
       "      <th>Precision</th>\n",
       "      <th>Recall</th>\n",
       "      <th>F1-Score</th>\n",
       "      <th>ROC AUC</th>\n",
       "    </tr>\n",
       "    <tr>\n",
       "      <th>Model</th>\n",
       "      <th></th>\n",
       "      <th></th>\n",
       "      <th></th>\n",
       "      <th></th>\n",
       "      <th></th>\n",
       "    </tr>\n",
       "  </thead>\n",
       "  <tbody>\n",
       "    <tr>\n",
       "      <th>BaggingClassifier</th>\n",
       "      <td>0.723674</td>\n",
       "      <td>0.718809</td>\n",
       "      <td>0.723674</td>\n",
       "      <td>0.720945</td>\n",
       "      <td>0.903920</td>\n",
       "    </tr>\n",
       "    <tr>\n",
       "      <th>BaggingClassifier-Tuned</th>\n",
       "      <td>0.723674</td>\n",
       "      <td>0.718809</td>\n",
       "      <td>0.723674</td>\n",
       "      <td>0.720945</td>\n",
       "      <td>0.878193</td>\n",
       "    </tr>\n",
       "    <tr>\n",
       "      <th>DecisionTreeClassifier-Tuned</th>\n",
       "      <td>0.679459</td>\n",
       "      <td>0.681539</td>\n",
       "      <td>0.679459</td>\n",
       "      <td>0.680425</td>\n",
       "      <td>0.804581</td>\n",
       "    </tr>\n",
       "    <tr>\n",
       "      <th>DecisionTreeClassifier</th>\n",
       "      <td>0.673897</td>\n",
       "      <td>0.675941</td>\n",
       "      <td>0.673897</td>\n",
       "      <td>0.674875</td>\n",
       "      <td>0.801130</td>\n",
       "    </tr>\n",
       "    <tr>\n",
       "      <th>KNeighborsClassifier-Tuned</th>\n",
       "      <td>0.694846</td>\n",
       "      <td>0.672871</td>\n",
       "      <td>0.694846</td>\n",
       "      <td>0.670465</td>\n",
       "      <td>0.878486</td>\n",
       "    </tr>\n",
       "    <tr>\n",
       "      <th>KNeighborsClassifier</th>\n",
       "      <td>0.673897</td>\n",
       "      <td>0.662454</td>\n",
       "      <td>0.673897</td>\n",
       "      <td>0.667031</td>\n",
       "      <td>0.862945</td>\n",
       "    </tr>\n",
       "    <tr>\n",
       "      <th>LogisticRegression-Tuned</th>\n",
       "      <td>0.644420</td>\n",
       "      <td>0.624206</td>\n",
       "      <td>0.644420</td>\n",
       "      <td>0.613624</td>\n",
       "      <td>0.777334</td>\n",
       "    </tr>\n",
       "    <tr>\n",
       "      <th>LogisticRegression</th>\n",
       "      <td>0.630886</td>\n",
       "      <td>0.596695</td>\n",
       "      <td>0.630886</td>\n",
       "      <td>0.579043</td>\n",
       "      <td>0.765562</td>\n",
       "    </tr>\n",
       "  </tbody>\n",
       "</table>\n",
       "</div>"
      ],
      "text/plain": [
       "                              Accuracy  Precision    Recall  F1-Score  \\\n",
       "Model                                                                   \n",
       "BaggingClassifier             0.723674   0.718809  0.723674  0.720945   \n",
       "BaggingClassifier-Tuned       0.723674   0.718809  0.723674  0.720945   \n",
       "DecisionTreeClassifier-Tuned  0.679459   0.681539  0.679459  0.680425   \n",
       "DecisionTreeClassifier        0.673897   0.675941  0.673897  0.674875   \n",
       "KNeighborsClassifier-Tuned    0.694846   0.672871  0.694846  0.670465   \n",
       "KNeighborsClassifier          0.673897   0.662454  0.673897  0.667031   \n",
       "LogisticRegression-Tuned      0.644420   0.624206  0.644420  0.613624   \n",
       "LogisticRegression            0.630886   0.596695  0.630886  0.579043   \n",
       "\n",
       "                               ROC AUC  \n",
       "Model                                   \n",
       "BaggingClassifier             0.903920  \n",
       "BaggingClassifier-Tuned       0.878193  \n",
       "DecisionTreeClassifier-Tuned  0.804581  \n",
       "DecisionTreeClassifier        0.801130  \n",
       "KNeighborsClassifier-Tuned    0.878486  \n",
       "KNeighborsClassifier          0.862945  \n",
       "LogisticRegression-Tuned      0.777334  \n",
       "LogisticRegression            0.765562  "
      ]
     },
     "execution_count": 37,
     "metadata": {},
     "output_type": "execute_result"
    }
   ],
   "source": [
    "#Display comparison chart\n",
    "df_metrics = pd.DataFrame({\n",
    "    'Model': models,\n",
    "    'Accuracy': accuracy_accumulator,\n",
    "    'Precision': precision_accumulator,\n",
    "    'Recall': recall_accumulator,\n",
    "    'F1-Score': f1s_accumulator,\n",
    "    'ROC AUC': roc_auc_accumulator\n",
    "})\n",
    "\n",
    "df_metrics.set_index('Model', inplace=True)\n",
    "\n",
    "df_metrics.sort_values(by='F1-Score', ascending=False)"
   ]
  },
  {
   "cell_type": "markdown",
   "id": "1652124f",
   "metadata": {},
   "source": [
    "## Final Inference\n",
    "Infering from all the metrics, from the above table, which shows comparison of different model, we can say for the given dataset, **Ensemble Model (Bagging Classifier)** performs best at classifying the Test data which we have split 80-20 Train-Test. The answer is based on good **F1-SCORE** and highest **PRECISION**. Also it performs this best on default, with tuned model just few scores away. The second best is the **DecisionTree** which is the base learner for the above Ensemble Classifier. We can see the Ensemble working better than Decision Tree by employing more number of smaller **Decision Tree** models and making better predictions on the same dataset."
   ]
  }
 ],
 "metadata": {
  "kernelspec": {
   "display_name": "Python 3",
   "language": "python",
   "name": "python3"
  },
  "language_info": {
   "codemirror_mode": {
    "name": "ipython",
    "version": 3
   },
   "file_extension": ".py",
   "mimetype": "text/x-python",
   "name": "python",
   "nbconvert_exporter": "python",
   "pygments_lexer": "ipython3",
   "version": "3.11.8"
  }
 },
 "nbformat": 4,
 "nbformat_minor": 5
}
